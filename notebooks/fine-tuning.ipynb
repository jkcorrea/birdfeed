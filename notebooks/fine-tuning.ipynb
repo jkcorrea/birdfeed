{
 "cells": [
  {
   "cell_type": "markdown",
   "metadata": {},
   "source": [
    "# Fine Tuning - Tech Twitter\n",
    "See if we can get gpt to make fire tweets"
   ]
  },
  {
   "cell_type": "markdown",
   "metadata": {},
   "source": [
    "## Part 1 - Scraping\n",
    "\n",
    "First we need to get some tweets. We'll use this scraper I found for now.\n",
    "Highly recommend you use a VPN, since this scraper is outside the Twitter API and they may rate limit/ban the IP."
   ]
  },
  {
   "cell_type": "code",
   "execution_count": 2,
   "metadata": {},
   "outputs": [
    {
     "ename": "ModuleNotFoundError",
     "evalue": "No module named 'twint'",
     "output_type": "error",
     "traceback": [
      "\u001b[0;31m---------------------------------------------------------------------------\u001b[0m",
      "\u001b[0;31mModuleNotFoundError\u001b[0m                       Traceback (most recent call last)",
      "Cell \u001b[0;32mIn[2], line 1\u001b[0m\n\u001b[0;32m----> 1\u001b[0m \u001b[38;5;28;01mimport\u001b[39;00m \u001b[38;5;21;01mtwint\u001b[39;00m\n\u001b[1;32m      2\u001b[0m \u001b[38;5;28;01mimport\u001b[39;00m \u001b[38;5;21;01mnest_asyncio\u001b[39;00m\n\u001b[1;32m      3\u001b[0m nest_asyncio\u001b[38;5;241m.\u001b[39mapply()\n",
      "\u001b[0;31mModuleNotFoundError\u001b[0m: No module named 'twint'"
     ]
    }
   ],
   "source": [
    "import twint\n",
    "import nest_asyncio\n",
    "nest_asyncio.apply()\n",
    "\n",
    "c = twint.Config()\n",
    "c.Lang = 'en'\n",
    "c.Limit = 1000\n",
    "c.Username = 'joshterryplays'\n",
    "c.Replies = False\n",
    "c.Since = '2021-01-01'\n",
    "c.Until = '2022-12-30'\n",
    "\n",
    "c.Hide_output = True\n",
    "c.Store_json = True\n",
    "c.Output = 'data/joshterryplays2.jsonl'\n",
    "\n",
    "twint.run.Search(c);"
   ]
  },
  {
   "cell_type": "markdown",
   "metadata": {},
   "source": [
    "Load up the tweets & inspect them"
   ]
  },
  {
   "cell_type": "code",
   "execution_count": 30,
   "metadata": {},
   "outputs": [
    {
     "data": {
      "text/html": [
       "<div>\n",
       "<style scoped>\n",
       "    .dataframe tbody tr th:only-of-type {\n",
       "        vertical-align: middle;\n",
       "    }\n",
       "\n",
       "    .dataframe tbody tr th {\n",
       "        vertical-align: top;\n",
       "    }\n",
       "\n",
       "    .dataframe thead th {\n",
       "        text-align: right;\n",
       "    }\n",
       "</style>\n",
       "<table border=\"1\" class=\"dataframe\">\n",
       "  <thead>\n",
       "    <tr style=\"text-align: right;\">\n",
       "      <th></th>\n",
       "      <th>tweet</th>\n",
       "      <th>likes_count</th>\n",
       "      <th>retweets_count</th>\n",
       "      <th>replies_count</th>\n",
       "      <th>date</th>\n",
       "    </tr>\n",
       "  </thead>\n",
       "  <tbody>\n",
       "    <tr>\n",
       "      <th>237</th>\n",
       "      <td>Not to mention that it’s a waste of time.</td>\n",
       "      <td>2</td>\n",
       "      <td>0</td>\n",
       "      <td>1</td>\n",
       "      <td>2022-12-23</td>\n",
       "    </tr>\n",
       "    <tr>\n",
       "      <th>236</th>\n",
       "      <td>Time spent wondering whether or not you’re doing everything you need to do is time spent not doing what needs to be done.</td>\n",
       "      <td>3</td>\n",
       "      <td>0</td>\n",
       "      <td>1</td>\n",
       "      <td>2022-12-23</td>\n",
       "    </tr>\n",
       "    <tr>\n",
       "      <th>235</th>\n",
       "      <td>You will always have to decide at some point that something is finished. You have to decide that you’re right or wrong and move on. You have to listen to a piece of advice and choose to take it or leave it.</td>\n",
       "      <td>2</td>\n",
       "      <td>0</td>\n",
       "      <td>1</td>\n",
       "      <td>2022-12-23</td>\n",
       "    </tr>\n",
       "    <tr>\n",
       "      <th>234</th>\n",
       "      <td>And the more you own the fact that you have to make a decision and practice making decisions quickly. The more energetic, confident, and capable you will become. Because the indecisiveness itself and your fear that you’ll make the wrong choice is the real enemy.</td>\n",
       "      <td>2</td>\n",
       "      <td>0</td>\n",
       "      <td>1</td>\n",
       "      <td>2022-12-23</td>\n",
       "    </tr>\n",
       "    <tr>\n",
       "      <th>233</th>\n",
       "      <td>Not the occasional wrong decision.</td>\n",
       "      <td>3</td>\n",
       "      <td>0</td>\n",
       "      <td>1</td>\n",
       "      <td>2022-12-23</td>\n",
       "    </tr>\n",
       "  </tbody>\n",
       "</table>\n",
       "</div>"
      ],
      "text/plain": [
       "                                                                                                                                                                                                                                                                      tweet  \\\n",
       "237                                                                                                                                                                                                                               Not to mention that it’s a waste of time.   \n",
       "236                                                                                                                                               Time spent wondering whether or not you’re doing everything you need to do is time spent not doing what needs to be done.   \n",
       "235                                                          You will always have to decide at some point that something is finished. You have to decide that you’re right or wrong and move on. You have to listen to a piece of advice and choose to take it or leave it.   \n",
       "234  And the more you own the fact that you have to make a decision and practice making decisions quickly. The more energetic, confident, and capable you will become. Because the indecisiveness itself and your fear that you’ll make the wrong choice is the real enemy.   \n",
       "233                                                                                                                                                                                                                                      Not the occasional wrong decision.   \n",
       "\n",
       "     likes_count  retweets_count  replies_count       date  \n",
       "237            2               0              1 2022-12-23  \n",
       "236            3               0              1 2022-12-23  \n",
       "235            2               0              1 2022-12-23  \n",
       "234            2               0              1 2022-12-23  \n",
       "233            3               0              1 2022-12-23  "
      ]
     },
     "execution_count": 30,
     "metadata": {},
     "output_type": "execute_result"
    }
   ],
   "source": [
    "import pandas as pd\n",
    "\n",
    "pd.set_option('display.max_colwidth', 300)\n",
    "\n",
    "lines = pd.read_json('data/tweets.jsonl', lines=True)\n",
    "df = lines.sort_values(by='id', ascending=True)\n",
    "cols = ['tweet', 'likes_count', 'retweets_count', 'replies_count', 'date']\n",
    "df[df['reply_to'].map(len) == 0][cols].head()"
   ]
  },
  {
   "cell_type": "markdown",
   "metadata": {},
   "source": [
    "Grab the raw tweet data as it's own dataframe (it's nested under `raw_value`)"
   ]
  },
  {
   "cell_type": "code",
   "execution_count": 90,
   "metadata": {},
   "outputs": [
    {
     "data": {
      "text/html": [
       "<div>\n",
       "<style scoped>\n",
       "    .dataframe tbody tr th:only-of-type {\n",
       "        vertical-align: middle;\n",
       "    }\n",
       "\n",
       "    .dataframe tbody tr th {\n",
       "        vertical-align: top;\n",
       "    }\n",
       "\n",
       "    .dataframe thead th {\n",
       "        text-align: right;\n",
       "    }\n",
       "</style>\n",
       "<table border=\"1\" class=\"dataframe\">\n",
       "  <thead>\n",
       "    <tr style=\"text-align: right;\">\n",
       "      <th></th>\n",
       "      <th>full_text</th>\n",
       "      <th>tokens</th>\n",
       "    </tr>\n",
       "  </thead>\n",
       "  <tbody>\n",
       "    <tr>\n",
       "      <th>16</th>\n",
       "      <td>Don’t think, “nobody would know.”\\n\\nBecause it turns you into a child that rebels against external rules.\\n\\nFor example, thinking, “Nobody would know if I gave up on this diet.”\\n\\nImplies that “other people” wanted you to be on the diet in the first place.\\n\\nBut who’s in charge? And…</td>\n",
       "      <td>87</td>\n",
       "    </tr>\n",
       "    <tr>\n",
       "      <th>2</th>\n",
       "      <td>If you want to help someone, don’t tell them five things.\\n🧵👇</td>\n",
       "      <td>22</td>\n",
       "    </tr>\n",
       "    <tr>\n",
       "      <th>21</th>\n",
       "      <td>Life requires work from you if you wish to survive.\\n\\nThe longer you fight it the more of a victim you will become.\\n\\nThe more you embrace it the easier the work will be.</td>\n",
       "      <td>41</td>\n",
       "    </tr>\n",
       "    <tr>\n",
       "      <th>15</th>\n",
       "      <td>Everyone is trying to use AI chatbots to remove the need for work.\\n\\nThe companies that win will be the ones that successfully integrate AI chatbots with their work.</td>\n",
       "      <td>35</td>\n",
       "    </tr>\n",
       "    <tr>\n",
       "      <th>11</th>\n",
       "      <td>AI is designed to remove work.\\n\\nBut the people who win will be the ones willing to do work…\\n\\nwith it.</td>\n",
       "      <td>28</td>\n",
       "    </tr>\n",
       "  </tbody>\n",
       "</table>\n",
       "</div>"
      ],
      "text/plain": [
       "                                                                                                                                                                                                                                                                                           full_text  \\\n",
       "16  Don’t think, “nobody would know.”\\n\\nBecause it turns you into a child that rebels against external rules.\\n\\nFor example, thinking, “Nobody would know if I gave up on this diet.”\\n\\nImplies that “other people” wanted you to be on the diet in the first place.\\n\\nBut who’s in charge? And…   \n",
       "2                                                                                                                                                                                                                                      If you want to help someone, don’t tell them five things.\\n🧵👇   \n",
       "21                                                                                                                      Life requires work from you if you wish to survive.\\n\\nThe longer you fight it the more of a victim you will become.\\n\\nThe more you embrace it the easier the work will be.   \n",
       "15                                                                                                                            Everyone is trying to use AI chatbots to remove the need for work.\\n\\nThe companies that win will be the ones that successfully integrate AI chatbots with their work.   \n",
       "11                                                                                                                                                                                         AI is designed to remove work.\\n\\nBut the people who win will be the ones willing to do work…\\n\\nwith it.   \n",
       "\n",
       "    tokens  \n",
       "16      87  \n",
       "2       22  \n",
       "21      41  \n",
       "15      35  \n",
       "11      28  "
      ]
     },
     "execution_count": 90,
     "metadata": {},
     "output_type": "execute_result"
    }
   ],
   "source": [
    "import openai\n",
    "from transformers import GPT2TokenizerFast\n",
    "\n",
    "tokenizer = GPT2TokenizerFast.from_pretrained('gpt2')\n",
    "\n",
    "tweets = data.full_text.apply(lambda s: re.sub(r'https?://\\S+', '', s)).to_frame()\n",
    "tweets['tokens'] = tweets['full_text'].map(lambda s: len(tokenizer.encode(s)))\n",
    "tweets.head()"
   ]
  },
  {
   "cell_type": "code",
   "execution_count": null,
   "metadata": {},
   "outputs": [],
   "source": [
    "import os\n",
    "import openai\n",
    "\n",
    "openai.api_key = os.getenv(\"OPENAI_API_KEY\")"
   ]
  },
  {
   "cell_type": "markdown",
   "metadata": {},
   "source": []
  },
  {
   "cell_type": "code",
   "execution_count": null,
   "metadata": {},
   "outputs": [],
   "source": []
  },
  {
   "cell_type": "code",
   "execution_count": null,
   "metadata": {},
   "outputs": [],
   "source": []
  }
 ],
 "metadata": {
  "kernelspec": {
   "display_name": "notebooks-fpsv",
   "language": "python",
   "name": "python3"
  },
  "language_info": {
   "codemirror_mode": {
    "name": "ipython",
    "version": 3
   },
   "file_extension": ".py",
   "mimetype": "text/x-python",
   "name": "python",
   "nbconvert_exporter": "python",
   "pygments_lexer": "ipython3",
   "version": "3.10.8"
  },
  "vscode": {
   "interpreter": {
    "hash": "af90b0bf547d330315fc12a8fcf5ce4a2316cb264b330b35f3b781a4d4bc3174"
   }
  }
 },
 "nbformat": 4,
 "nbformat_minor": 2
}
